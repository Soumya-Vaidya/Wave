{
 "cells": [
  {
   "cell_type": "code",
   "execution_count": 2,
   "metadata": {},
   "outputs": [
    {
     "name": "stderr",
     "output_type": "stream",
     "text": [
      "c:\\Users\\Soumya\\AppData\\Local\\Programs\\Python\\Python312\\Lib\\site-packages\\tqdm\\auto.py:21: TqdmWarning: IProgress not found. Please update jupyter and ipywidgets. See https://ipywidgets.readthedocs.io/en/stable/user_install.html\n",
      "  from .autonotebook import tqdm as notebook_tqdm\n"
     ]
    },
    {
     "name": "stdout",
     "output_type": "stream",
     "text": [
      "[{'label': 'disappointment', 'score': 0.46669524908065796}, {'label': 'sadness', 'score': 0.398494690656662}, {'label': 'annoyance', 'score': 0.06806597113609314}, {'label': 'neutral', 'score': 0.05703025311231613}, {'label': 'disapproval', 'score': 0.04423936828970909}, {'label': 'nervousness', 'score': 0.014850758016109467}, {'label': 'realization', 'score': 0.014059912413358688}, {'label': 'approval', 'score': 0.0112674655392766}, {'label': 'joy', 'score': 0.006303396541625261}, {'label': 'remorse', 'score': 0.006221496034413576}, {'label': 'caring', 'score': 0.006029403302818537}, {'label': 'embarrassment', 'score': 0.0052654859609901905}, {'label': 'anger', 'score': 0.00498143071308732}, {'label': 'disgust', 'score': 0.004259031731635332}, {'label': 'grief', 'score': 0.004002132453024387}, {'label': 'confusion', 'score': 0.003382918192073703}, {'label': 'relief', 'score': 0.0031405005138367414}, {'label': 'desire', 'score': 0.0028274739161133766}, {'label': 'admiration', 'score': 0.002815794898197055}, {'label': 'fear', 'score': 0.002707521663978696}, {'label': 'optimism', 'score': 0.0026164923328906298}, {'label': 'love', 'score': 0.002488391939550638}, {'label': 'excitement', 'score': 0.00244948104955256}, {'label': 'curiosity', 'score': 0.0023743617348372936}, {'label': 'amusement', 'score': 0.00174669548869133}, {'label': 'surprise', 'score': 0.001452984637580812}, {'label': 'gratitude', 'score': 0.0006464761681854725}, {'label': 'pride', 'score': 0.00055424973834306}]\n"
     ]
    }
   ],
   "source": [
    "# %pip install transformers\n",
    "import tensorflow as tf\n",
    "from tensorflow import keras\n",
    "from transformers import pipeline\n",
    "\n",
    "classifier = pipeline(task=\"text-classification\", model=\"SamLowe/roberta-base-go_emotions\", top_k=None)\n",
    "\n",
    "sentences = [\"I am not having a great day\"]\n",
    "\n",
    "model_outputs = classifier(sentences)\n",
    "print(model_outputs[0])\n"
   ]
  },
  {
   "cell_type": "code",
   "execution_count": 2,
   "metadata": {},
   "outputs": [
    {
     "name": "stdout",
     "output_type": "stream",
     "text": [
      "[{'label': 'joy', 'score': 0.8293648958206177}, {'label': 'excitement', 'score': 0.25620099902153015}, {'label': 'gratitude', 'score': 0.02653203345835209}, {'label': 'admiration', 'score': 0.018595770001411438}, {'label': 'neutral', 'score': 0.017539583146572113}, {'label': 'approval', 'score': 0.017098993062973022}, {'label': 'relief', 'score': 0.015387223102152348}, {'label': 'love', 'score': 0.011684361845254898}, {'label': 'desire', 'score': 0.008298278786242008}, {'label': 'amusement', 'score': 0.008148787543177605}, {'label': 'optimism', 'score': 0.007946147583425045}, {'label': 'caring', 'score': 0.007781118154525757}, {'label': 'realization', 'score': 0.006232304964214563}, {'label': 'surprise', 'score': 0.005727079696953297}, {'label': 'curiosity', 'score': 0.005641557741910219}, {'label': 'annoyance', 'score': 0.0049589104019105434}, {'label': 'pride', 'score': 0.004956522490829229}, {'label': 'confusion', 'score': 0.0048592183738946915}, {'label': 'disapproval', 'score': 0.004429835360497236}, {'label': 'sadness', 'score': 0.002990189241245389}, {'label': 'nervousness', 'score': 0.002677330281585455}, {'label': 'anger', 'score': 0.0023925649002194405}, {'label': 'disappointment', 'score': 0.0018160614417865872}, {'label': 'fear', 'score': 0.0013573154574260116}, {'label': 'embarrassment', 'score': 0.0010865088552236557}, {'label': 'remorse', 'score': 0.0010293095838278532}, {'label': 'grief', 'score': 0.0009408923797309399}, {'label': 'disgust', 'score': 0.0008924509747885168}]\n"
     ]
    }
   ],
   "source": [
    "sentences = [\"I go an admit today!!! Im so so happy. cannott wait to go to my new university\"]\n",
    "\n",
    "model_outputs = classifier(sentences)\n",
    "print(model_outputs[0])"
   ]
  },
  {
   "cell_type": "code",
   "execution_count": 1,
   "metadata": {},
   "outputs": [
    {
     "ename": "NameError",
     "evalue": "name 'classifier' is not defined",
     "output_type": "error",
     "traceback": [
      "\u001b[1;31m---------------------------------------------------------------------------\u001b[0m",
      "\u001b[1;31mNameError\u001b[0m                                 Traceback (most recent call last)",
      "Cell \u001b[1;32mIn[1], line 3\u001b[0m\n\u001b[0;32m      1\u001b[0m sentences \u001b[38;5;241m=\u001b[39m [\u001b[38;5;124m\"\u001b[39m\u001b[38;5;124mIm not very happy\u001b[39m\u001b[38;5;124m\"\u001b[39m]\n\u001b[1;32m----> 3\u001b[0m model_outputs \u001b[38;5;241m=\u001b[39m \u001b[43mclassifier\u001b[49m(sentences)\n\u001b[0;32m      4\u001b[0m \u001b[38;5;28mprint\u001b[39m(model_outputs[\u001b[38;5;241m0\u001b[39m])\n",
      "\u001b[1;31mNameError\u001b[0m: name 'classifier' is not defined"
     ]
    }
   ],
   "source": [
    "sentences = [\"Im not very happy\"]\n",
    "\n",
    "model_outputs = classifier(sentences)\n",
    "print(model_outputs[0])"
   ]
  },
  {
   "cell_type": "code",
   "execution_count": 4,
   "metadata": {},
   "outputs": [],
   "source": [
    "import pickle\n",
    "\n",
    "with open('../../App/dl_model.pkl', 'wb') as file:\n",
    "    pickle.dump(classifier, file)"
   ]
  }
 ],
 "metadata": {
  "kernelspec": {
   "display_name": "Python 3",
   "language": "python",
   "name": "python3"
  },
  "language_info": {
   "codemirror_mode": {
    "name": "ipython",
    "version": 3
   },
   "file_extension": ".py",
   "mimetype": "text/x-python",
   "name": "python",
   "nbconvert_exporter": "python",
   "pygments_lexer": "ipython3",
   "version": "3.12.2"
  }
 },
 "nbformat": 4,
 "nbformat_minor": 2
}
