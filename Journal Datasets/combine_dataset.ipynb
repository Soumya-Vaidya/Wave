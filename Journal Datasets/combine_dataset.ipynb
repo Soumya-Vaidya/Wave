{
 "cells": [
  {
   "cell_type": "code",
   "execution_count": 1,
   "metadata": {},
   "outputs": [],
   "source": [
    "import pandas as pd"
   ]
  },
  {
   "cell_type": "markdown",
   "metadata": {},
   "source": [
    "### Combining Emotions dataset for NLP CARER"
   ]
  },
  {
   "cell_type": "code",
   "execution_count": 5,
   "metadata": {},
   "outputs": [
    {
     "name": "stdout",
     "output_type": "stream",
     "text": [
      "20000\n"
     ]
    }
   ],
   "source": [
    "# Replace 'test.csv', 'train.csv', 'val.csv' with your actual file paths\n",
    "test_path2 = './Emotions dataset for NLP/test.xlsx'\n",
    "train_path2 = './Emotions dataset for NLP/train.xlsx'\n",
    "val_path2 = './Emotions dataset for NLP/val.xlsx'\n",
    "\n",
    "# Read each CSV file into a Pandas DataFrame\n",
    "df2_test = pd.read_excel(test_path2)\n",
    "df2_train = pd.read_excel(train_path2)\n",
    "df2_val = pd.read_excel(val_path2)\n",
    "\n",
    "\n",
    "sum_d2 = df2_test.shape[0]+ df2_train.shape[0]+ df2_val.shape[0]\n",
    "print(sum_d2)\n"
   ]
  },
  {
   "cell_type": "code",
   "execution_count": 6,
   "metadata": {},
   "outputs": [
    {
     "data": {
      "text/plain": [
       "20000"
      ]
     },
     "execution_count": 6,
     "metadata": {},
     "output_type": "execute_result"
    }
   ],
   "source": [
    "\n",
    "# Concatenate the DataFrames along the rows (axis=0)\n",
    "df2_combined = pd.concat([df2_test, df2_train, df2_val], axis=0, ignore_index=True)\n",
    "\n",
    "# Replace 'combined.csv' with the desired name for the combined CSV file\n",
    "combined_csv_path = './Emotions dataset for NLP/combined.csv'\n",
    "\n",
    "df2_combined = df2_combined.rename(columns={'Column1': 'text', 'Column2': 'label'})\n",
    "\n",
    "# Save the combined DataFrame to a new CSV file\n",
    "df2_combined.to_csv(combined_csv_path, index=False)\n",
    "df2_combined.shape[0]"
   ]
  },
  {
   "cell_type": "code",
   "execution_count": 7,
   "metadata": {},
   "outputs": [],
   "source": [
    "assert df2_combined.shape[0]== sum_d2"
   ]
  },
  {
   "cell_type": "markdown",
   "metadata": {},
   "source": [
    "### Combining All data sets"
   ]
  },
  {
   "cell_type": "code",
   "execution_count": 13,
   "metadata": {},
   "outputs": [],
   "source": [
    "d2_path = './Emotion Detection from Text/tweet_emotions.csv'\n",
    "d3_path = './Emotions dataset for NLP CARER/combined.csv'\n",
    "\n",
    "\n",
    "d2 = pd.read_csv(d2_path)\n",
    "d3 = pd.read_csv(d3_path)\n"
   ]
  },
  {
   "cell_type": "code",
   "execution_count": 14,
   "metadata": {},
   "outputs": [],
   "source": [
    "df_combined = pd.concat([d2, d3], axis=0, ignore_index=True)\n",
    "\n",
    "combined_csv_path = './final_combined.csv'\n",
    "\n",
    "df_combined.to_csv(combined_csv_path, index=False)"
   ]
  },
  {
   "cell_type": "code",
   "execution_count": 15,
   "metadata": {},
   "outputs": [
    {
     "data": {
      "text/plain": [
       "(60000, 2)"
      ]
     },
     "execution_count": 15,
     "metadata": {},
     "output_type": "execute_result"
    }
   ],
   "source": [
    "df_combined.shape"
   ]
  }
 ],
 "metadata": {
  "kernelspec": {
   "display_name": "Python 3",
   "language": "python",
   "name": "python3"
  },
  "language_info": {
   "codemirror_mode": {
    "name": "ipython",
    "version": 3
   },
   "file_extension": ".py",
   "mimetype": "text/x-python",
   "name": "python",
   "nbconvert_exporter": "python",
   "pygments_lexer": "ipython3",
   "version": "3.11.4"
  }
 },
 "nbformat": 4,
 "nbformat_minor": 2
}
