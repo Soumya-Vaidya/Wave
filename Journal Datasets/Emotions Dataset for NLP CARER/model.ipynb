{
 "cells": [
  {
   "cell_type": "code",
   "execution_count": 2,
   "metadata": {},
   "outputs": [],
   "source": [
    "import pandas as pd\n",
    "import numpy as np\n",
    "import matplotlib.pyplot as plt\n",
    "import re\n",
    "\n",
    "from sklearn.model_selection import train_test_split\n",
    "from sklearn.feature_extraction.text import CountVectorizer\n",
    "\n",
    "import pickle"
   ]
  },
  {
   "cell_type": "code",
   "execution_count": 3,
   "metadata": {},
   "outputs": [
    {
     "data": {
      "text/html": [
       "<div>\n",
       "<style scoped>\n",
       "    .dataframe tbody tr th:only-of-type {\n",
       "        vertical-align: middle;\n",
       "    }\n",
       "\n",
       "    .dataframe tbody tr th {\n",
       "        vertical-align: top;\n",
       "    }\n",
       "\n",
       "    .dataframe thead th {\n",
       "        text-align: right;\n",
       "    }\n",
       "</style>\n",
       "<table border=\"1\" class=\"dataframe\">\n",
       "  <thead>\n",
       "    <tr style=\"text-align: right;\">\n",
       "      <th></th>\n",
       "      <th>text</th>\n",
       "      <th>label</th>\n",
       "    </tr>\n",
       "  </thead>\n",
       "  <tbody>\n",
       "    <tr>\n",
       "      <th>0</th>\n",
       "      <td>feel rather rotten ambitious right</td>\n",
       "      <td>sadness</td>\n",
       "    </tr>\n",
       "    <tr>\n",
       "      <th>1</th>\n",
       "      <td>update blog feel shitty</td>\n",
       "      <td>sadness</td>\n",
       "    </tr>\n",
       "    <tr>\n",
       "      <th>2</th>\n",
       "      <td>never make separate ever want feel like ashamed</td>\n",
       "      <td>sadness</td>\n",
       "    </tr>\n",
       "    <tr>\n",
       "      <th>3</th>\n",
       "      <td>leave bouquet red yellow tulips arm feel sligh...</td>\n",
       "      <td>joy</td>\n",
       "    </tr>\n",
       "    <tr>\n",
       "      <th>4</th>\n",
       "      <td>feel little vain one</td>\n",
       "      <td>sadness</td>\n",
       "    </tr>\n",
       "  </tbody>\n",
       "</table>\n",
       "</div>"
      ],
      "text/plain": [
       "                                                text    label\n",
       "0                 feel rather rotten ambitious right  sadness\n",
       "1                            update blog feel shitty  sadness\n",
       "2    never make separate ever want feel like ashamed  sadness\n",
       "3  leave bouquet red yellow tulips arm feel sligh...      joy\n",
       "4                               feel little vain one  sadness"
      ]
     },
     "execution_count": 3,
     "metadata": {},
     "output_type": "execute_result"
    }
   ],
   "source": [
    "df = pd.read_csv(\"./processed_data.csv\")\n",
    "df.head()"
   ]
  },
  {
   "cell_type": "code",
   "execution_count": 4,
   "metadata": {},
   "outputs": [],
   "source": [
    "#Spliting data values and target values\n",
    "x = df['text']\n",
    "y = df['label']"
   ]
  },
  {
   "cell_type": "code",
   "execution_count": 5,
   "metadata": {},
   "outputs": [],
   "source": [
    "X_train, X_test, y_train, y_test = train_test_split (x,y, test_size=0.33, random_state=1)"
   ]
  },
  {
   "cell_type": "markdown",
   "metadata": {},
   "source": [
    "### Count Vectorizer"
   ]
  },
  {
   "cell_type": "code",
   "execution_count": 6,
   "metadata": {},
   "outputs": [],
   "source": [
    "# Create a CountVectorizer to convert text into a numerical representation and removing stop words\n",
    "vectorizer = CountVectorizer(stop_words='english')\n",
    "\n",
    "# Fit and transform the training data\n",
    "X_train_vectorized = vectorizer.fit_transform(X_train)\n",
    "\n",
    "# Transform the testing data\n",
    "X_test_vectorized = vectorizer.transform(X_test)"
   ]
  },
  {
   "cell_type": "markdown",
   "metadata": {},
   "source": [
    "### Checking for all the classifiers"
   ]
  },
  {
   "cell_type": "code",
   "execution_count": 7,
   "metadata": {},
   "outputs": [],
   "source": [
    "from sklearn.neighbors import KNeighborsClassifier\n",
    "from sklearn.svm import SVC\n",
    "from sklearn.ensemble import GradientBoostingClassifier\n",
    "from sklearn.tree import DecisionTreeClassifier\n",
    "from sklearn.ensemble import ExtraTreesClassifier\n",
    "from sklearn.ensemble import RandomForestClassifier, AdaBoostClassifier\n",
    "from sklearn.naive_bayes import GaussianNB\n",
    "from sklearn.linear_model import SGDClassifier\n",
    "from sklearn.naive_bayes import MultinomialNB\n",
    "\n",
    "from sklearn.metrics import f1_score"
   ]
  },
  {
   "cell_type": "code",
   "execution_count": 9,
   "metadata": {},
   "outputs": [],
   "source": [
    "classifiers = [\n",
    "    KNeighborsClassifier(15),\n",
    "    SVC(),\n",
    "    DecisionTreeClassifier(),\n",
    "    ExtraTreesClassifier(),\n",
    "    RandomForestClassifier(),\n",
    "    AdaBoostClassifier(),\n",
    "    SGDClassifier(),\n",
    "    MultinomialNB()\n",
    "]"
   ]
  },
  {
   "cell_type": "code",
   "execution_count": 10,
   "metadata": {},
   "outputs": [
    {
     "name": "stdout",
     "output_type": "stream",
     "text": [
      "KNeighborsClassifier(n_neighbors=15) 0.5251640323779103\n",
      "SVC() 0.8176668008357248\n",
      "DecisionTreeClassifier() 0.8111603853956816\n",
      "ExtraTreesClassifier() 0.8737038846174973\n",
      "RandomForestClassifier() 0.8635378982401726\n",
      "AdaBoostClassifier() 0.20817921607709883\n",
      "SGDClassifier() 0.8685161667660614\n",
      "MultinomialNB() 0.7402589696001602\n"
     ]
    }
   ],
   "source": [
    "classifier_names = []\n",
    "f1_scores = []\n",
    "\n",
    "for clf in classifiers:\n",
    "    clf.fit(X_train_vectorized, y_train)\n",
    "    pred=clf.predict(X_test_vectorized)\n",
    "\n",
    "    f1 = f1_score(y_test, pred, average='weighted')\n",
    "\n",
    "    classifier_names.append(str(clf))\n",
    "    f1_scores.append(f1)\n",
    "    \n",
    "    print(clf, f1)"
   ]
  },
  {
   "cell_type": "code",
   "execution_count": 12,
   "metadata": {},
   "outputs": [
    {
     "data": {
      "image/png": "[encoded data removed]",
      "text/plain": [
       "<Figure size 1000x600 with 1 Axes>"
      ]
     },
     "metadata": {},
     "output_type": "display_data"
    }
   ],
   "source": [
    "sorted_results = sorted(zip(classifier_names, f1_scores), key=lambda x: x[1], reverse=True)\n",
    "sorted_classifier_names, sorted_f1_scores = zip(*sorted_results)\n",
    "\n",
    "plt.figure(figsize=(10, 6))\n",
    "plt.barh(sorted_classifier_names, sorted_f1_scores, color='skyblue')\n",
    "plt.xlabel('F1 Score')\n",
    "plt.title('F1 Score of Classifiers ')\n",
    "plt.gca().invert_yaxis() \n",
    "plt.show()"
   ]
  },
  {
   "cell_type": "markdown",
   "metadata": {},
   "source": [
    "### Extra Trees Classifier - 0.877"
   ]
  },
  {
   "cell_type": "code",
   "execution_count": 8,
   "metadata": {},
   "outputs": [
    {
     "name": "stdout",
     "output_type": "stream",
     "text": [
      "Accuracy: 0.8741713401309015\n"
     ]
    }
   ],
   "source": [
    "etc = ExtraTreesClassifier()\n",
    "etc.fit(X_train_vectorized, y_train)\n",
    "y_pred = etc.predict(X_test_vectorized)\n",
    "accuracy = f1_score(y_test, y_pred,average='weighted')\n",
    "print(\"Accuracy:\", accuracy)"
   ]
  },
  {
   "cell_type": "code",
   "execution_count": 10,
   "metadata": {},
   "outputs": [],
   "source": [
    "# etc = ExtraTreesClassifier(min_samples_split=5)\n",
    "# etc.fit(X_train_vectorized, y_train)\n",
    "# y_pred = etc.predict(X_test_vectorized)\n",
    "# accuracy = f1_score(y_test, y_pred,average='weighted')\n",
    "# print(\"Accuracy:\", accuracy)"
   ]
  },
  {
   "cell_type": "markdown",
   "metadata": {},
   "source": [
    "#### Hyperparameter Tuning"
   ]
  },
  {
   "cell_type": "code",
   "execution_count": 11,
   "metadata": {},
   "outputs": [],
   "source": [
    "# from sklearn.model_selection import GridSearchCV\n",
    "\n",
    "# etc = ExtraTreesClassifier()\n",
    "\n",
    "# param_grid = {\n",
    "#     'n_estimators': [50, 100, 150],\n",
    "#     'max_depth': [None, 10, 20, 30],\n",
    "#     'min_samples_split': [2, 5, 10],\n",
    "#     'min_samples_leaf': [1, 2, 4]\n",
    "# }\n",
    "\n",
    "# grid_search = GridSearchCV(estimator=etc, param_grid=param_grid, cv=5, scoring='f1_weighted')\n",
    "\n",
    "# grid_search.fit(X_train_vectorized, y_train)\n",
    "\n",
    "# print(\"Best Parameters:\", grid_search.best_params_)\n",
    "\n",
    "# best_etc = grid_search.best_estimator_\n",
    "\n",
    "# y_pred = best_etc.predict(X_test_vectorized)\n",
    "\n",
    "# accuracy = f1_score(y_test, y_pred, average='weighted')\n",
    "# print(\"Best Model Accuracy:\", accuracy)"
   ]
  },
  {
   "cell_type": "markdown",
   "metadata": {},
   "source": [
    "### SGD Classifier- 0.8755"
   ]
  },
  {
   "cell_type": "code",
   "execution_count": 15,
   "metadata": {},
   "outputs": [
    {
     "name": "stdout",
     "output_type": "stream",
     "text": [
      "Accuracy: 0.8755651524970143\n"
     ]
    }
   ],
   "source": [
    "sgd = SGDClassifier(alpha = 0.001, loss =  'modified_huber', max_iter =  1000, penalty = 'elasticnet')\n",
    "sgd.fit(X_train_vectorized, y_train)\n",
    "y_pred = sgd.predict(X_test_vectorized)\n",
    "accuracy = f1_score(y_test, y_pred,average='weighted')\n",
    "print(\"Accuracy:\", accuracy)"
   ]
  },
  {
   "cell_type": "code",
   "execution_count": 13,
   "metadata": {},
   "outputs": [
    {
     "name": "stderr",
     "output_type": "stream",
     "text": [
      "C:\\Users\\Soumya\\AppData\\Roaming\\Python\\Python311\\site-packages\\sklearn\\linear_model\\_stochastic_gradient.py:713: ConvergenceWarning: Maximum number of iteration reached before convergence. Consider increasing max_iter to improve the fit.\n",
      "  warnings.warn(\n",
      "C:\\Users\\Soumya\\AppData\\Roaming\\Python\\Python311\\site-packages\\sklearn\\linear_model\\_stochastic_gradient.py:713: ConvergenceWarning: Maximum number of iteration reached before convergence. Consider increasing max_iter to improve the fit.\n",
      "  warnings.warn(\n",
      "C:\\Users\\Soumya\\AppData\\Roaming\\Python\\Python311\\site-packages\\sklearn\\linear_model\\_stochastic_gradient.py:713: ConvergenceWarning: Maximum number of iteration reached before convergence. Consider increasing max_iter to improve the fit.\n",
      "  warnings.warn(\n",
      "C:\\Users\\Soumya\\AppData\\Roaming\\Python\\Python311\\site-packages\\sklearn\\linear_model\\_stochastic_gradient.py:713: ConvergenceWarning: Maximum number of iteration reached before convergence. Consider increasing max_iter to improve the fit.\n",
      "  warnings.warn(\n",
      "C:\\Users\\Soumya\\AppData\\Roaming\\Python\\Python311\\site-packages\\sklearn\\linear_model\\_stochastic_gradient.py:713: ConvergenceWarning: Maximum number of iteration reached before convergence. Consider increasing max_iter to improve the fit.\n",
      "  warnings.warn(\n",
      "C:\\Users\\Soumya\\AppData\\Roaming\\Python\\Python311\\site-packages\\sklearn\\linear_model\\_stochastic_gradient.py:713: ConvergenceWarning: Maximum number of iteration reached before convergence. Consider increasing max_iter to improve the fit.\n",
      "  warnings.warn(\n",
      "C:\\Users\\Soumya\\AppData\\Roaming\\Python\\Python311\\site-packages\\sklearn\\linear_model\\_stochastic_gradient.py:713: ConvergenceWarning: Maximum number of iteration reached before convergence. Consider increasing max_iter to improve the fit.\n",
      "  warnings.warn(\n",
      "C:\\Users\\Soumya\\AppData\\Roaming\\Python\\Python311\\site-packages\\sklearn\\linear_model\\_stochastic_gradient.py:713: ConvergenceWarning: Maximum number of iteration reached before convergence. Consider increasing max_iter to improve the fit.\n",
      "  warnings.warn(\n",
      "C:\\Users\\Soumya\\AppData\\Roaming\\Python\\Python311\\site-packages\\sklearn\\linear_model\\_stochastic_gradient.py:713: ConvergenceWarning: Maximum number of iteration reached before convergence. Consider increasing max_iter to improve the fit.\n",
      "  warnings.warn(\n",
      "C:\\Users\\Soumya\\AppData\\Roaming\\Python\\Python311\\site-packages\\sklearn\\linear_model\\_stochastic_gradient.py:713: ConvergenceWarning: Maximum number of iteration reached before convergence. Consider increasing max_iter to improve the fit.\n",
      "  warnings.warn(\n",
      "C:\\Users\\Soumya\\AppData\\Roaming\\Python\\Python311\\site-packages\\sklearn\\linear_model\\_stochastic_gradient.py:713: ConvergenceWarning: Maximum number of iteration reached before convergence. Consider increasing max_iter to improve the fit.\n",
      "  warnings.warn(\n",
      "C:\\Users\\Soumya\\AppData\\Roaming\\Python\\Python311\\site-packages\\sklearn\\linear_model\\_stochastic_gradient.py:713: ConvergenceWarning: Maximum number of iteration reached before convergence. Consider increasing max_iter to improve the fit.\n",
      "  warnings.warn(\n",
      "C:\\Users\\Soumya\\AppData\\Roaming\\Python\\Python311\\site-packages\\sklearn\\linear_model\\_stochastic_gradient.py:713: ConvergenceWarning: Maximum number of iteration reached before convergence. Consider increasing max_iter to improve the fit.\n",
      "  warnings.warn(\n",
      "C:\\Users\\Soumya\\AppData\\Roaming\\Python\\Python311\\site-packages\\sklearn\\linear_model\\_stochastic_gradient.py:713: ConvergenceWarning: Maximum number of iteration reached before convergence. Consider increasing max_iter to improve the fit.\n",
      "  warnings.warn(\n",
      "C:\\Users\\Soumya\\AppData\\Roaming\\Python\\Python311\\site-packages\\sklearn\\linear_model\\_stochastic_gradient.py:713: ConvergenceWarning: Maximum number of iteration reached before convergence. Consider increasing max_iter to improve the fit.\n",
      "  warnings.warn(\n",
      "C:\\Users\\Soumya\\AppData\\Roaming\\Python\\Python311\\site-packages\\sklearn\\linear_model\\_stochastic_gradient.py:713: ConvergenceWarning: Maximum number of iteration reached before convergence. Consider increasing max_iter to improve the fit.\n",
      "  warnings.warn(\n",
      "C:\\Users\\Soumya\\AppData\\Roaming\\Python\\Python311\\site-packages\\sklearn\\linear_model\\_stochastic_gradient.py:713: ConvergenceWarning: Maximum number of iteration reached before convergence. Consider increasing max_iter to improve the fit.\n",
      "  warnings.warn(\n",
      "C:\\Users\\Soumya\\AppData\\Roaming\\Python\\Python311\\site-packages\\sklearn\\linear_model\\_stochastic_gradient.py:713: ConvergenceWarning: Maximum number of iteration reached before convergence. Consider increasing max_iter to improve the fit.\n",
      "  warnings.warn(\n",
      "C:\\Users\\Soumya\\AppData\\Roaming\\Python\\Python311\\site-packages\\sklearn\\linear_model\\_stochastic_gradient.py:713: ConvergenceWarning: Maximum number of iteration reached before convergence. Consider increasing max_iter to improve the fit.\n",
      "  warnings.warn(\n",
      "C:\\Users\\Soumya\\AppData\\Roaming\\Python\\Python311\\site-packages\\sklearn\\linear_model\\_stochastic_gradient.py:713: ConvergenceWarning: Maximum number of iteration reached before convergence. Consider increasing max_iter to improve the fit.\n",
      "  warnings.warn(\n",
      "C:\\Users\\Soumya\\AppData\\Roaming\\Python\\Python311\\site-packages\\sklearn\\linear_model\\_stochastic_gradient.py:713: ConvergenceWarning: Maximum number of iteration reached before convergence. Consider increasing max_iter to improve the fit.\n",
      "  warnings.warn(\n",
      "C:\\Users\\Soumya\\AppData\\Roaming\\Python\\Python311\\site-packages\\sklearn\\linear_model\\_stochastic_gradient.py:713: ConvergenceWarning: Maximum number of iteration reached before convergence. Consider increasing max_iter to improve the fit.\n",
      "  warnings.warn(\n",
      "C:\\Users\\Soumya\\AppData\\Roaming\\Python\\Python311\\site-packages\\sklearn\\linear_model\\_stochastic_gradient.py:713: ConvergenceWarning: Maximum number of iteration reached before convergence. Consider increasing max_iter to improve the fit.\n",
      "  warnings.warn(\n",
      "C:\\Users\\Soumya\\AppData\\Roaming\\Python\\Python311\\site-packages\\sklearn\\linear_model\\_stochastic_gradient.py:713: ConvergenceWarning: Maximum number of iteration reached before convergence. Consider increasing max_iter to improve the fit.\n",
      "  warnings.warn(\n",
      "C:\\Users\\Soumya\\AppData\\Roaming\\Python\\Python311\\site-packages\\sklearn\\linear_model\\_stochastic_gradient.py:713: ConvergenceWarning: Maximum number of iteration reached before convergence. Consider increasing max_iter to improve the fit.\n",
      "  warnings.warn(\n",
      "C:\\Users\\Soumya\\AppData\\Roaming\\Python\\Python311\\site-packages\\sklearn\\linear_model\\_stochastic_gradient.py:713: ConvergenceWarning: Maximum number of iteration reached before convergence. Consider increasing max_iter to improve the fit.\n",
      "  warnings.warn(\n",
      "C:\\Users\\Soumya\\AppData\\Roaming\\Python\\Python311\\site-packages\\sklearn\\linear_model\\_stochastic_gradient.py:713: ConvergenceWarning: Maximum number of iteration reached before convergence. Consider increasing max_iter to improve the fit.\n",
      "  warnings.warn(\n",
      "C:\\Users\\Soumya\\AppData\\Roaming\\Python\\Python311\\site-packages\\sklearn\\linear_model\\_stochastic_gradient.py:713: ConvergenceWarning: Maximum number of iteration reached before convergence. Consider increasing max_iter to improve the fit.\n",
      "  warnings.warn(\n",
      "C:\\Users\\Soumya\\AppData\\Roaming\\Python\\Python311\\site-packages\\sklearn\\linear_model\\_stochastic_gradient.py:713: ConvergenceWarning: Maximum number of iteration reached before convergence. Consider increasing max_iter to improve the fit.\n",
      "  warnings.warn(\n",
      "C:\\Users\\Soumya\\AppData\\Roaming\\Python\\Python311\\site-packages\\sklearn\\linear_model\\_stochastic_gradient.py:713: ConvergenceWarning: Maximum number of iteration reached before convergence. Consider increasing max_iter to improve the fit.\n",
      "  warnings.warn(\n",
      "C:\\Users\\Soumya\\AppData\\Roaming\\Python\\Python311\\site-packages\\sklearn\\linear_model\\_stochastic_gradient.py:713: ConvergenceWarning: Maximum number of iteration reached before convergence. Consider increasing max_iter to improve the fit.\n",
      "  warnings.warn(\n",
      "C:\\Users\\Soumya\\AppData\\Roaming\\Python\\Python311\\site-packages\\sklearn\\linear_model\\_stochastic_gradient.py:713: ConvergenceWarning: Maximum number of iteration reached before convergence. Consider increasing max_iter to improve the fit.\n",
      "  warnings.warn(\n",
      "C:\\Users\\Soumya\\AppData\\Roaming\\Python\\Python311\\site-packages\\sklearn\\linear_model\\_stochastic_gradient.py:713: ConvergenceWarning: Maximum number of iteration reached before convergence. Consider increasing max_iter to improve the fit.\n",
      "  warnings.warn(\n",
      "C:\\Users\\Soumya\\AppData\\Roaming\\Python\\Python311\\site-packages\\sklearn\\linear_model\\_stochastic_gradient.py:713: ConvergenceWarning: Maximum number of iteration reached before convergence. Consider increasing max_iter to improve the fit.\n",
      "  warnings.warn(\n",
      "C:\\Users\\Soumya\\AppData\\Roaming\\Python\\Python311\\site-packages\\sklearn\\linear_model\\_stochastic_gradient.py:713: ConvergenceWarning: Maximum number of iteration reached before convergence. Consider increasing max_iter to improve the fit.\n",
      "  warnings.warn(\n",
      "C:\\Users\\Soumya\\AppData\\Roaming\\Python\\Python311\\site-packages\\sklearn\\linear_model\\_stochastic_gradient.py:713: ConvergenceWarning: Maximum number of iteration reached before convergence. Consider increasing max_iter to improve the fit.\n",
      "  warnings.warn(\n",
      "C:\\Users\\Soumya\\AppData\\Roaming\\Python\\Python311\\site-packages\\sklearn\\linear_model\\_stochastic_gradient.py:713: ConvergenceWarning: Maximum number of iteration reached before convergence. Consider increasing max_iter to improve the fit.\n",
      "  warnings.warn(\n",
      "C:\\Users\\Soumya\\AppData\\Roaming\\Python\\Python311\\site-packages\\sklearn\\linear_model\\_stochastic_gradient.py:713: ConvergenceWarning: Maximum number of iteration reached before convergence. Consider increasing max_iter to improve the fit.\n",
      "  warnings.warn(\n",
      "C:\\Users\\Soumya\\AppData\\Roaming\\Python\\Python311\\site-packages\\sklearn\\linear_model\\_stochastic_gradient.py:713: ConvergenceWarning: Maximum number of iteration reached before convergence. Consider increasing max_iter to improve the fit.\n",
      "  warnings.warn(\n",
      "C:\\Users\\Soumya\\AppData\\Roaming\\Python\\Python311\\site-packages\\sklearn\\linear_model\\_stochastic_gradient.py:713: ConvergenceWarning: Maximum number of iteration reached before convergence. Consider increasing max_iter to improve the fit.\n",
      "  warnings.warn(\n",
      "C:\\Users\\Soumya\\AppData\\Roaming\\Python\\Python311\\site-packages\\sklearn\\linear_model\\_stochastic_gradient.py:713: ConvergenceWarning: Maximum number of iteration reached before convergence. Consider increasing max_iter to improve the fit.\n",
      "  warnings.warn(\n",
      "C:\\Users\\Soumya\\AppData\\Roaming\\Python\\Python311\\site-packages\\sklearn\\linear_model\\_stochastic_gradient.py:713: ConvergenceWarning: Maximum number of iteration reached before convergence. Consider increasing max_iter to improve the fit.\n",
      "  warnings.warn(\n",
      "C:\\Users\\Soumya\\AppData\\Roaming\\Python\\Python311\\site-packages\\sklearn\\linear_model\\_stochastic_gradient.py:713: ConvergenceWarning: Maximum number of iteration reached before convergence. Consider increasing max_iter to improve the fit.\n",
      "  warnings.warn(\n",
      "C:\\Users\\Soumya\\AppData\\Roaming\\Python\\Python311\\site-packages\\sklearn\\linear_model\\_stochastic_gradient.py:713: ConvergenceWarning: Maximum number of iteration reached before convergence. Consider increasing max_iter to improve the fit.\n",
      "  warnings.warn(\n",
      "C:\\Users\\Soumya\\AppData\\Roaming\\Python\\Python311\\site-packages\\sklearn\\linear_model\\_stochastic_gradient.py:713: ConvergenceWarning: Maximum number of iteration reached before convergence. Consider increasing max_iter to improve the fit.\n",
      "  warnings.warn(\n",
      "C:\\Users\\Soumya\\AppData\\Roaming\\Python\\Python311\\site-packages\\sklearn\\linear_model\\_stochastic_gradient.py:713: ConvergenceWarning: Maximum number of iteration reached before convergence. Consider increasing max_iter to improve the fit.\n",
      "  warnings.warn(\n",
      "C:\\Users\\Soumya\\AppData\\Roaming\\Python\\Python311\\site-packages\\sklearn\\linear_model\\_stochastic_gradient.py:713: ConvergenceWarning: Maximum number of iteration reached before convergence. Consider increasing max_iter to improve the fit.\n",
      "  warnings.warn(\n",
      "C:\\Users\\Soumya\\AppData\\Roaming\\Python\\Python311\\site-packages\\sklearn\\linear_model\\_stochastic_gradient.py:713: ConvergenceWarning: Maximum number of iteration reached before convergence. Consider increasing max_iter to improve the fit.\n",
      "  warnings.warn(\n",
      "C:\\Users\\Soumya\\AppData\\Roaming\\Python\\Python311\\site-packages\\sklearn\\linear_model\\_stochastic_gradient.py:713: ConvergenceWarning: Maximum number of iteration reached before convergence. Consider increasing max_iter to improve the fit.\n",
      "  warnings.warn(\n",
      "C:\\Users\\Soumya\\AppData\\Roaming\\Python\\Python311\\site-packages\\sklearn\\linear_model\\_stochastic_gradient.py:713: ConvergenceWarning: Maximum number of iteration reached before convergence. Consider increasing max_iter to improve the fit.\n",
      "  warnings.warn(\n",
      "C:\\Users\\Soumya\\AppData\\Roaming\\Python\\Python311\\site-packages\\sklearn\\linear_model\\_stochastic_gradient.py:713: ConvergenceWarning: Maximum number of iteration reached before convergence. Consider increasing max_iter to improve the fit.\n",
      "  warnings.warn(\n",
      "C:\\Users\\Soumya\\AppData\\Roaming\\Python\\Python311\\site-packages\\sklearn\\linear_model\\_stochastic_gradient.py:713: ConvergenceWarning: Maximum number of iteration reached before convergence. Consider increasing max_iter to improve the fit.\n",
      "  warnings.warn(\n",
      "C:\\Users\\Soumya\\AppData\\Roaming\\Python\\Python311\\site-packages\\sklearn\\linear_model\\_stochastic_gradient.py:713: ConvergenceWarning: Maximum number of iteration reached before convergence. Consider increasing max_iter to improve the fit.\n",
      "  warnings.warn(\n",
      "C:\\Users\\Soumya\\AppData\\Roaming\\Python\\Python311\\site-packages\\sklearn\\linear_model\\_stochastic_gradient.py:713: ConvergenceWarning: Maximum number of iteration reached before convergence. Consider increasing max_iter to improve the fit.\n",
      "  warnings.warn(\n",
      "C:\\Users\\Soumya\\AppData\\Roaming\\Python\\Python311\\site-packages\\sklearn\\linear_model\\_stochastic_gradient.py:713: ConvergenceWarning: Maximum number of iteration reached before convergence. Consider increasing max_iter to improve the fit.\n",
      "  warnings.warn(\n",
      "C:\\Users\\Soumya\\AppData\\Roaming\\Python\\Python311\\site-packages\\sklearn\\linear_model\\_stochastic_gradient.py:713: ConvergenceWarning: Maximum number of iteration reached before convergence. Consider increasing max_iter to improve the fit.\n",
      "  warnings.warn(\n",
      "C:\\Users\\Soumya\\AppData\\Roaming\\Python\\Python311\\site-packages\\sklearn\\linear_model\\_stochastic_gradient.py:713: ConvergenceWarning: Maximum number of iteration reached before convergence. Consider increasing max_iter to improve the fit.\n",
      "  warnings.warn(\n",
      "C:\\Users\\Soumya\\AppData\\Roaming\\Python\\Python311\\site-packages\\sklearn\\linear_model\\_stochastic_gradient.py:713: ConvergenceWarning: Maximum number of iteration reached before convergence. Consider increasing max_iter to improve the fit.\n",
      "  warnings.warn(\n",
      "C:\\Users\\Soumya\\AppData\\Roaming\\Python\\Python311\\site-packages\\sklearn\\linear_model\\_stochastic_gradient.py:713: ConvergenceWarning: Maximum number of iteration reached before convergence. Consider increasing max_iter to improve the fit.\n",
      "  warnings.warn(\n",
      "C:\\Users\\Soumya\\AppData\\Roaming\\Python\\Python311\\site-packages\\sklearn\\linear_model\\_stochastic_gradient.py:713: ConvergenceWarning: Maximum number of iteration reached before convergence. Consider increasing max_iter to improve the fit.\n",
      "  warnings.warn(\n",
      "C:\\Users\\Soumya\\AppData\\Roaming\\Python\\Python311\\site-packages\\sklearn\\linear_model\\_stochastic_gradient.py:713: ConvergenceWarning: Maximum number of iteration reached before convergence. Consider increasing max_iter to improve the fit.\n",
      "  warnings.warn(\n",
      "C:\\Users\\Soumya\\AppData\\Roaming\\Python\\Python311\\site-packages\\sklearn\\linear_model\\_stochastic_gradient.py:713: ConvergenceWarning: Maximum number of iteration reached before convergence. Consider increasing max_iter to improve the fit.\n",
      "  warnings.warn(\n",
      "C:\\Users\\Soumya\\AppData\\Roaming\\Python\\Python311\\site-packages\\sklearn\\linear_model\\_stochastic_gradient.py:713: ConvergenceWarning: Maximum number of iteration reached before convergence. Consider increasing max_iter to improve the fit.\n",
      "  warnings.warn(\n",
      "C:\\Users\\Soumya\\AppData\\Roaming\\Python\\Python311\\site-packages\\sklearn\\linear_model\\_stochastic_gradient.py:713: ConvergenceWarning: Maximum number of iteration reached before convergence. Consider increasing max_iter to improve the fit.\n",
      "  warnings.warn(\n",
      "C:\\Users\\Soumya\\AppData\\Roaming\\Python\\Python311\\site-packages\\sklearn\\linear_model\\_stochastic_gradient.py:713: ConvergenceWarning: Maximum number of iteration reached before convergence. Consider increasing max_iter to improve the fit.\n",
      "  warnings.warn(\n",
      "C:\\Users\\Soumya\\AppData\\Roaming\\Python\\Python311\\site-packages\\sklearn\\linear_model\\_stochastic_gradient.py:713: ConvergenceWarning: Maximum number of iteration reached before convergence. Consider increasing max_iter to improve the fit.\n",
      "  warnings.warn(\n",
      "C:\\Users\\Soumya\\AppData\\Roaming\\Python\\Python311\\site-packages\\sklearn\\linear_model\\_stochastic_gradient.py:713: ConvergenceWarning: Maximum number of iteration reached before convergence. Consider increasing max_iter to improve the fit.\n",
      "  warnings.warn(\n",
      "C:\\Users\\Soumya\\AppData\\Roaming\\Python\\Python311\\site-packages\\sklearn\\linear_model\\_stochastic_gradient.py:713: ConvergenceWarning: Maximum number of iteration reached before convergence. Consider increasing max_iter to improve the fit.\n",
      "  warnings.warn(\n",
      "C:\\Users\\Soumya\\AppData\\Roaming\\Python\\Python311\\site-packages\\sklearn\\linear_model\\_stochastic_gradient.py:713: ConvergenceWarning: Maximum number of iteration reached before convergence. Consider increasing max_iter to improve the fit.\n",
      "  warnings.warn(\n",
      "C:\\Users\\Soumya\\AppData\\Roaming\\Python\\Python311\\site-packages\\sklearn\\linear_model\\_stochastic_gradient.py:713: ConvergenceWarning: Maximum number of iteration reached before convergence. Consider increasing max_iter to improve the fit.\n",
      "  warnings.warn(\n",
      "C:\\Users\\Soumya\\AppData\\Roaming\\Python\\Python311\\site-packages\\sklearn\\linear_model\\_stochastic_gradient.py:713: ConvergenceWarning: Maximum number of iteration reached before convergence. Consider increasing max_iter to improve the fit.\n",
      "  warnings.warn(\n",
      "C:\\Users\\Soumya\\AppData\\Roaming\\Python\\Python311\\site-packages\\sklearn\\linear_model\\_stochastic_gradient.py:713: ConvergenceWarning: Maximum number of iteration reached before convergence. Consider increasing max_iter to improve the fit.\n",
      "  warnings.warn(\n",
      "C:\\Users\\Soumya\\AppData\\Roaming\\Python\\Python311\\site-packages\\sklearn\\linear_model\\_stochastic_gradient.py:713: ConvergenceWarning: Maximum number of iteration reached before convergence. Consider increasing max_iter to improve the fit.\n",
      "  warnings.warn(\n",
      "C:\\Users\\Soumya\\AppData\\Roaming\\Python\\Python311\\site-packages\\sklearn\\linear_model\\_stochastic_gradient.py:713: ConvergenceWarning: Maximum number of iteration reached before convergence. Consider increasing max_iter to improve the fit.\n",
      "  warnings.warn(\n",
      "C:\\Users\\Soumya\\AppData\\Roaming\\Python\\Python311\\site-packages\\sklearn\\linear_model\\_stochastic_gradient.py:713: ConvergenceWarning: Maximum number of iteration reached before convergence. Consider increasing max_iter to improve the fit.\n",
      "  warnings.warn(\n",
      "C:\\Users\\Soumya\\AppData\\Roaming\\Python\\Python311\\site-packages\\sklearn\\model_selection\\_validation.py:425: FitFailedWarning: \n",
      "180 fits failed out of a total of 720.\n",
      "The score on these train-test partitions for these parameters will be set to nan.\n",
      "If these failures are not expected, you can try to debug them by setting error_score='raise'.\n",
      "\n",
      "Below are more details about the failures:\n",
      "--------------------------------------------------------------------------------\n",
      "180 fits failed with the following error:\n",
      "Traceback (most recent call last):\n",
      "  File \"C:\\Users\\Soumya\\AppData\\Roaming\\Python\\Python311\\site-packages\\sklearn\\model_selection\\_validation.py\", line 729, in _fit_and_score\n",
      "    estimator.fit(X_train, y_train, **fit_params)\n",
      "  File \"C:\\Users\\Soumya\\AppData\\Roaming\\Python\\Python311\\site-packages\\sklearn\\base.py\", line 1145, in wrapper\n",
      "    estimator._validate_params()\n",
      "  File \"C:\\Users\\Soumya\\AppData\\Roaming\\Python\\Python311\\site-packages\\sklearn\\base.py\", line 638, in _validate_params\n",
      "    validate_parameter_constraints(\n",
      "  File \"C:\\Users\\Soumya\\AppData\\Roaming\\Python\\Python311\\site-packages\\sklearn\\utils\\_param_validation.py\", line 96, in validate_parameter_constraints\n",
      "    raise InvalidParameterError(\n",
      "sklearn.utils._param_validation.InvalidParameterError: The 'loss' parameter of SGDClassifier must be a str among {'epsilon_insensitive', 'huber', 'log_loss', 'modified_huber', 'hinge', 'squared_error', 'perceptron', 'squared_epsilon_insensitive', 'squared_hinge'}. Got 'log' instead.\n",
      "\n",
      "  warnings.warn(some_fits_failed_message, FitFailedWarning)\n",
      "C:\\Users\\Soumya\\AppData\\Roaming\\Python\\Python311\\site-packages\\sklearn\\model_selection\\_search.py:979: UserWarning: One or more of the test scores are non-finite: [0.86495587 0.86580557 0.86948517 0.86391681 0.86375065 0.86795277\n",
      " 0.8612733  0.86520522 0.86903254        nan        nan        nan\n",
      "        nan        nan        nan        nan        nan        nan\n",
      " 0.84886797 0.84461805 0.85632643 0.84726405 0.84384844 0.85515402\n",
      " 0.84812297 0.84722714 0.85705202 0.78713288 0.83051746 0.80662281\n",
      " 0.77941432 0.8275825  0.81312588 0.7761878  0.82674856 0.82170008\n",
      " 0.86597519 0.81560916 0.86092548 0.866787   0.82781006 0.86052593\n",
      " 0.86593669 0.82411891 0.86077289        nan        nan        nan\n",
      "        nan        nan        nan        nan        nan        nan\n",
      " 0.87145936 0.84359307 0.87412492 0.86921116 0.84677125 0.87275287\n",
      " 0.8705013  0.84617089 0.87409749 0.70230206 0.81181459 0.81410963\n",
      " 0.62945708 0.81369896 0.74177768 0.73100797 0.81062847 0.80320138\n",
      " 0.80885152 0.15395287 0.75274778 0.81093271 0.08806899 0.76081154\n",
      " 0.81141006 0.14051624 0.75982443        nan        nan        nan\n",
      "        nan        nan        nan        nan        nan        nan\n",
      " 0.82163699 0.33565049 0.79136394 0.82332905 0.33101449 0.79243997\n",
      " 0.81729027 0.3462138  0.7915113  0.19957472 0.73078314 0.30609927\n",
      " 0.34012978 0.72540019 0.37666541 0.2736818  0.73016942 0.31892128\n",
      " 0.7609491  0.15126241 0.15752971 0.76557534 0.17117705 0.16788792\n",
      " 0.76528769 0.14212912 0.12095836        nan        nan        nan\n",
      "        nan        nan        nan        nan        nan        nan\n",
      " 0.42913022 0.17352544 0.1733661  0.42843914 0.17337392 0.17267278\n",
      " 0.43024121 0.17296917 0.17377132 0.3481806  0.25044073 0.17889996\n",
      " 0.43744152 0.25050378 0.18585792 0.39482841 0.3360057  0.18433221]\n",
      "  warnings.warn(\n"
     ]
    },
    {
     "name": "stdout",
     "output_type": "stream",
     "text": [
      "Best Parameters: {'alpha': 0.001, 'loss': 'modified_huber', 'max_iter': 1000, 'penalty': 'elasticnet'}\n",
      "Best Model F1 Score: 0.8744559760624578\n"
     ]
    }
   ],
   "source": [
    "# from sklearn.model_selection import GridSearchCV\n",
    "# from sklearn.linear_model import SGDClassifier\n",
    "\n",
    "# # Instantiate SGDClassifier\n",
    "# sgd = SGDClassifier()\n",
    "\n",
    "# # Define the parameter grid\n",
    "# param_grid = {\n",
    "#     'loss': ['hinge', 'log', 'modified_huber', 'squared_hinge'],  # Loss function\n",
    "#     'alpha': [0.0001, 0.001, 0.01, 0.1],  # Regularization parameter\n",
    "#     'penalty': ['l2', 'l1', 'elasticnet'],  # Penalty term\n",
    "#     'max_iter': [1000, 1500, 2000],  # Maximum number of iterations\n",
    "# }\n",
    "\n",
    "# # Instantiate GridSearchCV\n",
    "# grid_search = GridSearchCV(estimator=sgd, param_grid=param_grid, cv=5, scoring='f1_weighted')\n",
    "\n",
    "# # Fit the grid search to the data\n",
    "# grid_search.fit(X_train_vectorized, y_train)\n",
    "\n",
    "# # Get the best parameters\n",
    "# best_params = grid_search.best_params_\n",
    "# print(\"Best Parameters:\", best_params)\n",
    "\n",
    "# # Get the best estimator\n",
    "# best_sgd = grid_search.best_estimator_\n",
    "\n",
    "# # Make predictions on the test set\n",
    "# y_pred = best_sgd.predict(X_test_vectorized)\n",
    "\n",
    "# # Calculate accuracy\n",
    "# accuracy = f1_score(y_test, y_pred, average='weighted')\n",
    "# print(\"Best Model F1 Score:\", accuracy)\n"
   ]
  },
  {
   "cell_type": "markdown",
   "metadata": {},
   "source": [
    "#### Hyperparameter Tuning"
   ]
  },
  {
   "cell_type": "code",
   "execution_count": 12,
   "metadata": {},
   "outputs": [],
   "source": [
    "# from sklearn.model_selection import RandomizedSearchCV\n",
    "# from scipy.stats import randint\n",
    "\n",
    "# etc = ExtraTreesClassifier()\n",
    "\n",
    "# param_dist = {\n",
    "#     'n_estimators': randint(50, 200),\n",
    "#     'max_depth': [None] + list(np.random.randint(1, 50, 10)),\n",
    "#     'min_samples_split': randint(2, 20),\n",
    "#     'min_samples_leaf': randint(1, 20),\n",
    "# }\n",
    "\n",
    "# random_search = RandomizedSearchCV(estimator=etc, param_distributions=param_dist, n_iter=10, cv=5, scoring='f1_weighted', random_state=42)\n",
    "\n",
    "# random_search.fit(X_train_vectorized, y_train)\n",
    "\n",
    "# print(\"Best Parameters:\", random_search.best_params_)\n",
    "\n",
    "# best_etc = random_search.best_estimator_\n",
    "\n",
    "# y_pred = best_etc.predict(X_test_vectorized)\n",
    "\n",
    "# accuracy = f1_score(y_test, y_pred, average='weighted')\n",
    "# print(\"Best Model Accuracy:\", accuracy)"
   ]
  },
  {
   "cell_type": "markdown",
   "metadata": {},
   "source": [
    "### Random Forest Classifier - 0.872"
   ]
  },
  {
   "cell_type": "code",
   "execution_count": 16,
   "metadata": {},
   "outputs": [
    {
     "name": "stdout",
     "output_type": "stream",
     "text": [
      "Accuracy: 0.8627248765439679\n"
     ]
    }
   ],
   "source": [
    "rfc = RandomForestClassifier()\n",
    "rfc.fit(X_train_vectorized, y_train)\n",
    "y_pred = rfc.predict(X_test_vectorized)\n",
    "accuracy = f1_score(y_test, y_pred,average='weighted')\n",
    "print(\"Accuracy:\", accuracy)"
   ]
  },
  {
   "cell_type": "code",
   "execution_count": 17,
   "metadata": {},
   "outputs": [
    {
     "name": "stdout",
     "output_type": "stream",
     "text": [
      "Accuracy: 0.869391076292237\n"
     ]
    }
   ],
   "source": [
    "rfc = RandomForestClassifier(min_samples_split=15)\n",
    "rfc.fit(X_train_vectorized, y_train)\n",
    "y_pred = rfc.predict(X_test_vectorized)\n",
    "accuracy = f1_score(y_test, y_pred,average='weighted')\n",
    "print(\"Accuracy:\", accuracy)"
   ]
  },
  {
   "cell_type": "markdown",
   "metadata": {},
   "source": [
    "### Predicting"
   ]
  },
  {
   "cell_type": "code",
   "execution_count": 13,
   "metadata": {},
   "outputs": [
    {
     "name": "stdout",
     "output_type": "stream",
     "text": [
      "Predicted Class: ['sadness']\n"
     ]
    }
   ],
   "source": [
    "new_text_entry = \"Im having a very good time!! but i think the overall experience is slightly tragic, dont you think?\"\n",
    "\n",
    "new_text_entry_vectorized = vectorizer.transform([new_text_entry])\n",
    "\n",
    "predicted_class = etc.predict(new_text_entry_vectorized)\n",
    "\n",
    "print(\"Predicted Class:\", predicted_class)"
   ]
  },
  {
   "cell_type": "code",
   "execution_count": 17,
   "metadata": {},
   "outputs": [
    {
     "name": "stdout",
     "output_type": "stream",
     "text": [
      "Predicted Class: ['fear']\n"
     ]
    }
   ],
   "source": [
    "new_text_entry = \"I am very scared for the exams. I fear they wont go good\"\n",
    "\n",
    "new_text_entry_vectorized = vectorizer.transform([new_text_entry])\n",
    "\n",
    "predicted_class = etc.predict(new_text_entry_vectorized)\n",
    "\n",
    "print(\"Predicted Class:\", predicted_class)"
   ]
  },
  {
   "cell_type": "code",
   "execution_count": 20,
   "metadata": {},
   "outputs": [
    {
     "name": "stdout",
     "output_type": "stream",
     "text": [
      "Confusion Matrix:\n",
      "[[ 763   21   26    4   60    3]\n",
      " [  28  675    7    1   29   52]\n",
      " [  27   27 1961   84   74   38]\n",
      " [   7    8  109  406   27    1]\n",
      " [  61   42   45    6 1747   11]\n",
      " [   0   27   14    1    6  202]]\n",
      "\n",
      "Classification Report:\n",
      "              precision    recall  f1-score   support\n",
      "\n",
      "       anger       0.86      0.87      0.87       877\n",
      "        fear       0.84      0.85      0.85       792\n",
      "         joy       0.91      0.89      0.90      2211\n",
      "        love       0.81      0.73      0.77       558\n",
      "     sadness       0.90      0.91      0.91      1912\n",
      "    surprise       0.66      0.81      0.73       250\n",
      "\n",
      "    accuracy                           0.87      6600\n",
      "   macro avg       0.83      0.84      0.83      6600\n",
      "weighted avg       0.87      0.87      0.87      6600\n",
      "\n"
     ]
    },
    {
     "data": {
      "image/png": "[encoded data removed]",
      "text/plain": [
       "<Figure size 800x600 with 1 Axes>"
      ]
     },
     "metadata": {},
     "output_type": "display_data"
    }
   ],
   "source": [
    "import matplotlib.pyplot as plt\n",
    "import seaborn as sns\n",
    "from sklearn.metrics import confusion_matrix, classification_report\n",
    "\n",
    "# Compute confusion matrix\n",
    "conf_matrix = confusion_matrix(y_test, y_pred)\n",
    "\n",
    "# Print confusion matrix\n",
    "print(\"Confusion Matrix:\")\n",
    "print(conf_matrix)\n",
    "\n",
    "# Calculate precision, recall, and F1-score using classification_report\n",
    "report = classification_report(y_test, y_pred)\n",
    "print(\"\\nClassification Report:\")\n",
    "print(report)\n",
    "\n",
    "\n",
    "# Plot confusion matrix as a heatmap\n",
    "plt.figure(figsize=(8, 6))\n",
    "sns.heatmap(conf_matrix, annot=True, fmt=\"d\", cmap=\"Blues\", cbar=False,\n",
    "            xticklabels=np.unique(y),\n",
    "            yticklabels=np.unique(y))\n",
    "plt.title(\"Confusion Matrix Heatmap\")\n",
    "plt.xlabel(\"Predicted label\")\n",
    "plt.ylabel(\"True label\")\n",
    "plt.show()"
   ]
  },
  {
   "cell_type": "code",
   "execution_count": 23,
   "metadata": {},
   "outputs": [
    {
     "name": "stdout",
     "output_type": "stream",
     "text": [
      "anger: 0\n",
      "fear: 0\n",
      "sadness: 1\n",
      "love: 0\n",
      "joy: 1\n",
      "surprise: 1\n"
     ]
    }
   ],
   "source": [
    "input_text = \"i am feeling pretty wonderful. But yesterday was a little sad, with the weather being so terrible. I'm surprised its the not the same today\"\n",
    "sentences = re.split(r'(?<!\\w\\.\\w.)(?<![A-Z][a-z]\\.)(?<=\\.|\\?)\\s', input_text)\n",
    "\n",
    "# Create a dictionary to store emotion counts\n",
    "emotion_count = {'anger': 0, 'fear': 0, 'sadness': 0, 'love': 0, 'joy': 0 , 'surprise':0}  \n",
    "\n",
    "# Process each sentence\n",
    "for sentence in sentences:\n",
    "    # Preprocess the sentence (optional, depending on your data)\n",
    "    # processed_sentence = preprocess_function(sentence)\n",
    "\n",
    "    # Transform the sentence\n",
    "    sentence_vectorized = vectorizer.transform([sentence])\n",
    "\n",
    "    # Predict emotion for the sentence\n",
    "    emotion_prediction = etc.predict(sentence_vectorized)[0]\n",
    "\n",
    "    # Update the emotion count\n",
    "    emotion_count[emotion_prediction] += 1\n",
    "    # print(sentence, emotion_prediction)\n",
    "\n",
    "# Print the results\n",
    "for emotion, count in emotion_count.items():\n",
    "    print(f\"{emotion}: {count}\")"
   ]
  },
  {
   "cell_type": "markdown",
   "metadata": {},
   "source": [
    "### Make a Pickle File"
   ]
  },
  {
   "cell_type": "code",
   "execution_count": 9,
   "metadata": {},
   "outputs": [],
   "source": [
    "# Dumping vectorizer as Pickle\n",
    "\n",
    "with open('../../App/vectorizer.pkl', 'wb') as file:\n",
    "    pickle.dump(vectorizer, file)"
   ]
  },
  {
   "cell_type": "code",
   "execution_count": 10,
   "metadata": {},
   "outputs": [],
   "source": [
    "with open('../../App/model.pkl', 'wb') as file:\n",
    "    pickle.dump(etc, file)"
   ]
  }
 ],
 "metadata": {
  "kernelspec": {
   "display_name": "Python 3",
   "language": "python",
   "name": "python3"
  },
  "language_info": {
   "codemirror_mode": {
    "name": "ipython",
    "version": 3
   },
   "file_extension": ".py",
   "mimetype": "text/x-python",
   "name": "python",
   "nbconvert_exporter": "python",
   "pygments_lexer": "ipython3",
   "version": "3.12.2"
  }
 },
 "nbformat": 4,
 "nbformat_minor": 2
}
